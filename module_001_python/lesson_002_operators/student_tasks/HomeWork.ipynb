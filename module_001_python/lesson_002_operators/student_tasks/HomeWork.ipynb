{
 "cells": [
  {
   "cell_type": "markdown",
   "metadata": {},
   "source": [
    "# Задача 1\n",
    "\n",
    "Фильтр по квартирам. Есть информация о квартире, проверить следующие условия:\n",
    "* Цена меньше 3млн и 2 комнатная, но не в центре\n",
    "* В центре, не на первых этажах (1-3) и должен быть лифт\n",
    "* Без лифта и цена от 1млн до 2.5 млн"
   ]
  },
  {
   "cell_type": "code",
   "execution_count": 6,
   "metadata": {},
   "outputs": [],
   "source": [
    "# Цена квартиры\n",
    "price = 2_000_000\n",
    "\n",
    "# Кол-во комнат\n",
    "rooms = 1\n",
    "\n",
    "# Расположение в городе\n",
    "location = \"center\"\n",
    "\n",
    "# Наличие лифта\n",
    "elevator = True\n",
    "\n",
    "# Этаж\n",
    "floor = 7"
   ]
  },
  {
   "cell_type": "code",
   "execution_count": 7,
   "metadata": {},
   "outputs": [
    {
     "name": "stdout",
     "output_type": "stream",
     "text": [
      "В центре, не на первых этажах (1-3) и должен быть лифт\n"
     ]
    }
   ],
   "source": [
    "if price < 3*10**6 and rooms == 2 and location != \"center\":\n",
    "    print(\"Цена меньше 3млн и 2 комнатная, но не в центре\")\n",
    "elif location == \"center\" and floor > 3:\n",
    "    print(\"В центре, не на первых этажах (1-3) и должен быть лифт\")\n",
    "elif not elevator and 10**6 <= price <= 2.5*10**6:\n",
    "    print(\"Без лифта и цена от 1млн до 2.5 млн\")\n"
   ]
  },
  {
   "cell_type": "markdown",
   "metadata": {},
   "source": [
    "# Задача 2\n",
    "\n",
    "* Вывести числа от 100 до 0, с шагом в 5"
   ]
  },
  {
   "cell_type": "code",
   "execution_count": 4,
   "metadata": {},
   "outputs": [
    {
     "name": "stdout",
     "output_type": "stream",
     "text": [
      "[0, 5, 10, 15, 20, 25, 30, 35, 40, 45, 50, 55, 60, 65, 70, 75, 80, 85, 90, 95, 100]\n"
     ]
    }
   ],
   "source": [
    "print(list(range(0, 101, 5)))"
   ]
  },
  {
   "cell_type": "markdown",
   "metadata": {},
   "source": [
    "# Задача 3\n",
    "* Напечатать список простых чисел от 2 до 1000 - http://ru.math.wikia.com/wiki/%D0%9F%D1%80%D0%BE%D1%81%D1%82%D0%BE%D0%B5_%D1%87%D0%B8%D1%81%D0%BB%D0%BE"
   ]
  },
  {
   "cell_type": "code",
   "execution_count": 10,
   "metadata": {},
   "outputs": [
    {
     "name": "stdout",
     "output_type": "stream",
     "text": [
      "[2, 3, 5, 7, 11, 13, 17, 19, 23, 29, 31, 37, 41, 43, 47, 53, 59, 61, 67, 71, 73, 79, 83, 89, 97, 101, 103, 107, 109, 113, 127, 131, 137, 139, 149, 151, 157, 163, 167, 173, 179, 181, 191, 193, 197, 199, 211, 223, 227, 229, 233, 239, 241, 251, 257, 263, 269, 271, 277, 281, 283, 293, 307, 311, 313, 317, 331, 337, 347, 349, 353, 359, 367, 373, 379, 383, 389, 397, 401, 409, 419, 421, 431, 433, 439, 443, 449, 457, 461, 463, 467, 479, 487, 491, 499, 503, 509, 521, 523, 541, 547, 557, 563, 569, 571, 577, 587, 593, 599, 601, 607, 613, 617, 619, 631, 641, 643, 647, 653, 659, 661, 673, 677, 683, 691, 701, 709, 719, 727, 733, 739, 743, 751, 757, 761, 769, 773, 787, 797, 809, 811, 821, 823, 827, 829, 839, 853, 857, 859, 863, 877, 881, 883, 887, 907, 911, 919, 929, 937, 941, 947, 953, 967, 971, 977, 983, 991, 997]\n"
     ]
    }
   ],
   "source": [
    "def eratosfen(n):\n",
    "    nums = list (range(n + 1))\n",
    "    lst = []\n",
    "    i = 2\n",
    "    while i <= n:\n",
    "        if nums[i] != 0:\n",
    "            lst.append(nums[i])\n",
    "            for k in range(i, n + 1, i):\n",
    "                nums[k] = 0\n",
    "        i += 1\n",
    "    return lst  \n",
    "\n",
    "print(eratosfen(1000))\n"
   ]
  },
  {
   "cell_type": "code",
   "execution_count": null,
   "metadata": {},
   "outputs": [],
   "source": []
  }
 ],
 "metadata": {
  "kernelspec": {
   "display_name": "Python 3",
   "language": "python",
   "name": "python3"
  },
  "language_info": {
   "codemirror_mode": {
    "name": "ipython",
    "version": 3
   },
   "file_extension": ".py",
   "mimetype": "text/x-python",
   "name": "python",
   "nbconvert_exporter": "python",
   "pygments_lexer": "ipython3",
   "version": "3.6.7"
  }
 },
 "nbformat": 4,
 "nbformat_minor": 2
}
